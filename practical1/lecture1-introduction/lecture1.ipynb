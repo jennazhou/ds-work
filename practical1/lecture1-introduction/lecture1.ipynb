{
  "cells": [
    {
      "metadata": {
        "slideshow": {
          "slide_type": "slide"
        }
      },
      "cell_type": "markdown",
      "source": "# Lecture 1: Introduction and Data Science Basics\n"
    },
    {
      "metadata": {},
      "cell_type": "markdown",
      "source": "(Based on the Jupyter notebook by Marek Rei)\n\nThis session will cover how to load data in common formats into python, plot it and calculate basic statistics over it. "
    },
    {
      "metadata": {},
      "cell_type": "markdown",
      "source": "## Python Syntax Refresher"
    },
    {
      "metadata": {},
      "cell_type": "markdown",
      "source": "Here is a short python program just to remind you about the python syntax. \n\nThis short code snippet imports a library called *random*, creates a list with three elements, then goes through the list and prints each element along with a random number."
    },
    {
      "metadata": {
        "trusted": true
      },
      "cell_type": "code",
      "source": "import random\n\nmy_list = [\"camel\", \"elephant\", \"crocodile\"]\nfor word in my_list:\n    print(word + \" \" + str(random.random()))",
      "execution_count": null,
      "outputs": []
    },
    {
      "metadata": {},
      "cell_type": "markdown",
      "source": "If you need help with getting started with Python, there are a couple of useful tutorials online, e.g.:\n\n- https://www.tutorialspoint.com/python/index.htm\n- https://www.learnpython.org"
    },
    {
      "metadata": {},
      "cell_type": "markdown",
      "source": "## Dataset\n\nWe will use the data/country-stats.csv (the repository actually contains data in a number of different formats) file which contains demographic information for 161 countries, collected by The World Bank. Each line contains the following values:\n\n* Country\tName\n* GDP per Capita (PPP USD)\n* Population Density (persons per sq km)\n* Population Growth Rate (%)\n* Urban Population (%)\n* Life Expectancy at Birth (avg years)\n* Fertility Rate (births per woman)\n* Infant Mortality (deaths per 1000 births)\n* Enrolment Rate, Tertiary (%)\n* Unemployment, Total (%)\n* Estimated Control of Corruption (scale -2.5 to 2.5)\n* Estimated Government Effectiveness (scale -2.5 to 2.5)\n* Internet Users (%)"
    },
    {
      "metadata": {},
      "cell_type": "markdown",
      "source": "A sample of the CSV (comma-separated values) format can be seen below. Values are separated by commas; the first row contains column headers.\n\n~~~~\nCountry Name,GDP per Capita (PPP USD),Population Density (persons per sq km),Population Growth Rate (%),Urban Population (%),Life Expectancy at Birth (avg years),Fertility Rate (births per woman),Infant Mortality (deaths per 1000 births),\"Enrolment Rate, Tertiary (%)\",\"Unemployment, Total (%)\",Estimated Control of Corruption (scale -2.5 to 2.5),Estimated Government Effectiveness (scale -2.5 to 2.5),Internet Users (%)\nAfghanistan,1560.67,44.62,2.44,23.86,60.07,5.39,71,3.33,8.5,-1.41,-1.4,5.45\nAlbania,9403.43,115.11,0.26,54.45,77.16,1.75,15,54.85,14.2,-0.72,-0.28,54.66\nAlgeria,8515.35,15.86,1.89,73.71,70.75,2.83,25.6,31.46,10,-0.54,-0.55,15.23\nAntigua and Barbuda,19640.35,200.35,1.03,29.87,75.5,2.12,9.2,14.37,8.4,1.29,0.48,83.79\nArgentina,12016.2,14.88,0.88,92.64,75.84,2.2,12.7,74.83,7.2,-0.49,-0.25,55.8\n~~~~"
    },
    {
      "metadata": {},
      "cell_type": "markdown",
      "source": "## Reading Data into Python"
    },
    {
      "metadata": {},
      "cell_type": "markdown",
      "source": "We can use the python library called *pandas* in order to easily load CSV files into our code. The *data* variable will be a pandas-specific object containing the whole dataset. *data.head()* shows the first few lines."
    },
    {
      "metadata": {
        "scrolled": true,
        "trusted": true
      },
      "cell_type": "code",
      "source": "import pandas as pd\n\ndata = pd.read_csv('data/country-stats.csv')\ndata.head()",
      "execution_count": null,
      "outputs": []
    },
    {
      "metadata": {},
      "cell_type": "markdown",
      "source": "## Using *Pandas* to Analyze Data"
    },
    {
      "metadata": {},
      "cell_type": "markdown",
      "source": "Now that we have loaded the data, we can analyze it.  \n\nTo start, we'll focus on one variable in this dataset: GDP per Capita (PPP USD).  \nIt is common to describe a variable by finding its average value (the mean), so let's do that."
    },
    {
      "metadata": {
        "trusted": true
      },
      "cell_type": "code",
      "source": "data[\"GDP per Capita (PPP USD)\"].mean()",
      "execution_count": null,
      "outputs": []
    },
    {
      "metadata": {},
      "cell_type": "markdown",
      "source": "Now we know that the average GDP in those countries is $15616. But on its own that doesn't really tell us much. We want to find interesting connections and patterns. \n\nWhat if we look at how the average GDP differs between countries with low and high unemployment.  \nWe can use pandas to first select countries that have a specific unemployment percentage (e.g., 7\\%) and then calculate the mean over that group."
    },
    {
      "metadata": {
        "scrolled": true,
        "trusted": true
      },
      "cell_type": "code",
      "source": "low_unemployment_countries = data[data[\"Unemployment, Total (%)\"] < 7]\nlow_unemployment_countries[\"GDP per Capita (PPP USD)\"].mean()",
      "execution_count": null,
      "outputs": []
    },
    {
      "metadata": {
        "trusted": true
      },
      "cell_type": "code",
      "source": "high_unemployment_countries = data[data[\"Unemployment, Total (%)\"] >= 7]\nhigh_unemployment_countries[\"GDP per Capita (PPP USD)\"].mean()",
      "execution_count": null,
      "outputs": []
    },
    {
      "metadata": {},
      "cell_type": "markdown",
      "source": "Now we're getting somewhere! There's a difference in average GDP between these two groups.  \nCountries with lower higher unemployment have lower GDP.  \n\nLet's plot this finding using another helpful library, *matplotlib*."
    },
    {
      "metadata": {
        "trusted": true
      },
      "cell_type": "code",
      "source": "%matplotlib inline\nimport matplotlib.pyplot as plt\n\nbar_width = 0.6\n\nx1 = [0.0]\nx2 = [bar_width]\n\ny1 = [data[data[\"Unemployment, Total (%)\"] < 7][\"GDP per Capita (PPP USD)\"].mean()]\ny2 = [data[data[\"Unemployment, Total (%)\"] >= 7][\"GDP per Capita (PPP USD)\"].mean()]\n\nfig, ax = plt.subplots()\nbars1 = ax.bar(x1, y1, bar_width, alpha=0.4, color='b', label='Low unemployment')\nbars2 = ax.bar(x2, y2, bar_width, alpha=0.4, color='r', label='High unemployment')\n\nax.set_ylabel('GDP')\nax.set_title('Average GDP by unemployment')\nax.set_xticks([])\nax.set_xlim([-2,2.5])\nax.set_ylim([14000,17000])\nax.legend()\n\nplt.show()",
      "execution_count": null,
      "outputs": []
    },
    {
      "metadata": {},
      "cell_type": "markdown",
      "source": "This clearly looks like a big difference in GDP between the two countries, right?  \nWell, it has a couple of problems. For one, a lot depends on how the information is presented. If we adjust the Y axis to show the whole range of values, the same difference will not look as substantial any more."
    },
    {
      "metadata": {
        "trusted": true
      },
      "cell_type": "code",
      "source": "bar_width = 0.6\n\nx1 = [0.0]\nx2 = [bar_width]\n\ny1 = [data[data[\"Unemployment, Total (%)\"] < 7][\"GDP per Capita (PPP USD)\"].mean()]\ny2 = [data[data[\"Unemployment, Total (%)\"] >= 7][\"GDP per Capita (PPP USD)\"].mean()]\n\nfig, ax = plt.subplots()\nbars1 = ax.bar(x1, y1, bar_width, alpha=0.4, color='b', label='Low unempl.')\nbars2 = ax.bar(x2, y2, bar_width, alpha=0.4, color='r', label='High unempl.')\n\nax.set_ylabel('GDP')\nax.set_title('Average GDP by unemployment')\nax.set_xticks([])\nax.set_xlim([-2,2.5])\nax.set_ylim([0, 17000])\nax.legend()\n\nplt.show()",
      "execution_count": null,
      "outputs": []
    },
    {
      "metadata": {},
      "cell_type": "markdown",
      "source": "That doesn't look like a very big difference any more. The way we present data is a powerful tool and we have to be careful not to let it fool ourselves or others."
    },
    {
      "metadata": {},
      "cell_type": "markdown",
      "source": "Another problem is that taking the average of some data throws away a lot of important information.  \nLet's calculate the standard deviation of these groups as well."
    },
    {
      "metadata": {
        "trusted": true
      },
      "cell_type": "code",
      "source": "low_unemployment_countries = data[data[\"Unemployment, Total (%)\"] < 7]\nlow_unemployment_countries[\"GDP per Capita (PPP USD)\"].std()",
      "execution_count": null,
      "outputs": []
    },
    {
      "metadata": {
        "trusted": true
      },
      "cell_type": "code",
      "source": "high_unemployment_countries = data[data[\"Unemployment, Total (%)\"] >= 7]\nhigh_unemployment_countries[\"GDP per Capita (PPP USD)\"].std()",
      "execution_count": null,
      "outputs": []
    },
    {
      "metadata": {},
      "cell_type": "markdown",
      "source": "For both subgroups, the standard deviation is almost just as high as the average GDP. This means there is so much variance in the data that the difference in averages hardly matters."
    },
    {
      "metadata": {},
      "cell_type": "markdown",
      "source": "We can plot the data to take a better look at the relationships between these two variables."
    },
    {
      "metadata": {
        "trusted": true
      },
      "cell_type": "code",
      "source": "plt.scatter(data[\"Unemployment, Total (%)\"], data[\"GDP per Capita (PPP USD)\"])\nplt.xlabel(\"Unemployment, Total (%)\")\nplt.ylabel(\"GDP per Capita (PPP USD)\")\nfor i in [37,84]:\n    plt.annotate(data[\"Country Name\"][i], (data[\"Unemployment, Total (%)\"][i], data[\"GDP per Capita (PPP USD)\"][i]))\n\n#fig.set_size_inches(5,5)\nplt.savefig('graph3.png', dpi=400)\n    \nplt.show()",
      "execution_count": null,
      "outputs": []
    },
    {
      "metadata": {},
      "cell_type": "markdown",
      "source": "We can see that there are some countries with very low unemployment and very high GDP, and some countries with very high unemployment and very low GDP (following our original intuition about the data). But there are also many countries with low unemloyment and low GDP, so our original assumption doesn't really hold and is not actually supported by the data."
    },
    {
      "metadata": {},
      "cell_type": "markdown",
      "source": "## Doing More with Pandas"
    },
    {
      "metadata": {},
      "cell_type": "markdown",
      "source": "Here are some other useful things you can do with the pandas DataFrame object.  \nIf you call it on a dataset without any filters, it will calculate the mean value for all the columns."
    },
    {
      "metadata": {
        "trusted": true
      },
      "cell_type": "code",
      "source": "data.mean()",
      "execution_count": null,
      "outputs": []
    },
    {
      "metadata": {},
      "cell_type": "markdown",
      "source": "Similarly, you can use it to calculate statistics such as the median, minimum and maximum:"
    },
    {
      "metadata": {
        "trusted": true
      },
      "cell_type": "code",
      "source": "data.median()\ndata.min()\ndata.max()",
      "execution_count": null,
      "outputs": []
    },
    {
      "metadata": {},
      "cell_type": "markdown",
      "source": "You can get index using row/column numbers as well.  \nHere is row number 2:"
    },
    {
      "metadata": {
        "trusted": true
      },
      "cell_type": "code",
      "source": "data.iloc[2,:]",
      "execution_count": null,
      "outputs": []
    },
    {
      "metadata": {},
      "cell_type": "markdown",
      "source": "Column number 4:"
    },
    {
      "metadata": {
        "scrolled": true,
        "trusted": true
      },
      "cell_type": "code",
      "source": "data.iloc[:,4].head()",
      "execution_count": null,
      "outputs": []
    },
    {
      "metadata": {},
      "cell_type": "markdown",
      "source": "Element in row 2 column 4:"
    },
    {
      "metadata": {
        "trusted": true
      },
      "cell_type": "code",
      "source": "data.iloc[2,4]",
      "execution_count": null,
      "outputs": []
    },
    {
      "metadata": {},
      "cell_type": "markdown",
      "source": "The *.describe()* function prints a bunch of different statistics at once for all the fields:"
    },
    {
      "metadata": {
        "trusted": true
      },
      "cell_type": "code",
      "source": "data.describe()",
      "execution_count": null,
      "outputs": []
    },
    {
      "metadata": {},
      "cell_type": "markdown",
      "source": "Also, the *.corr()* function will automatically calculate correlations between all the columns:"
    },
    {
      "metadata": {
        "trusted": true
      },
      "cell_type": "code",
      "source": "data.corr()",
      "execution_count": null,
      "outputs": []
    },
    {
      "metadata": {
        "trusted": true
      },
      "cell_type": "code",
      "source": "",
      "execution_count": null,
      "outputs": []
    }
  ],
  "metadata": {
    "kernelspec": {
      "name": "python3",
      "display_name": "Python 3",
      "language": "python"
    },
    "language_info": {
      "mimetype": "text/x-python",
      "nbconvert_exporter": "python",
      "name": "python",
      "pygments_lexer": "ipython3",
      "version": "3.5.4",
      "file_extension": ".py",
      "codemirror_mode": {
        "version": 3,
        "name": "ipython"
      }
    }
  },
  "nbformat": 4,
  "nbformat_minor": 2
}